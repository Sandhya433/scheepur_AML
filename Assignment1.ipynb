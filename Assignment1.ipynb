{
  "nbformat": 4,
  "nbformat_minor": 0,
  "metadata": {
    "colab": {
      "provenance": [],
      "authorship_tag": "ABX9TyM76fJxTEu8j0/yu90Ft4fd",
      "include_colab_link": true
    },
    "kernelspec": {
      "name": "python3",
      "display_name": "Python 3"
    },
    "language_info": {
      "name": "python"
    }
  },
  "cells": [
    {
      "cell_type": "markdown",
      "metadata": {
        "id": "view-in-github",
        "colab_type": "text"
      },
      "source": [
        "<a href=\"https://colab.research.google.com/github/Sandhya433/scheepur_AML/blob/main/Assignment1.ipynb\" target=\"_parent\"><img src=\"https://colab.research.google.com/assets/colab-badge.svg\" alt=\"Open In Colab\"/></a>"
      ]
    },
    {
      "cell_type": "code",
      "execution_count": null,
      "metadata": {
        "id": "BG2W7rpNFfKZ"
      },
      "outputs": [],
      "source": [
        "from tensorflow.keras.datasets import imdb\n",
        "(train_data, train_labels),(test_data, test_labels)=imdb.load_data(num_words=10000)"
      ]
    },
    {
      "cell_type": "code",
      "source": [
        "train_labels"
      ],
      "metadata": {
        "colab": {
          "base_uri": "https://localhost:8080/"
        },
        "id": "vkIn-vijFmrz",
        "outputId": "a79cf746-98f1-4b17-e119-08a63c6893a5"
      },
      "execution_count": null,
      "outputs": [
        {
          "output_type": "execute_result",
          "data": {
            "text/plain": [
              "array([1, 0, 0, ..., 0, 1, 0])"
            ]
          },
          "metadata": {},
          "execution_count": 2
        }
      ]
    },
    {
      "cell_type": "code",
      "source": [
        "max([max(sequence) for sequence in train_data])"
      ],
      "metadata": {
        "colab": {
          "base_uri": "https://localhost:8080/"
        },
        "id": "lvy8nyB5HpIE",
        "outputId": "ce2046e5-d7dc-44eb-b02f-957980005521"
      },
      "execution_count": null,
      "outputs": [
        {
          "output_type": "execute_result",
          "data": {
            "text/plain": [
              "9999"
            ]
          },
          "metadata": {},
          "execution_count": 3
        }
      ]
    },
    {
      "cell_type": "code",
      "source": [
        "import numpy as np\n",
        "\n",
        "def vectorize(i,dimension=10000):\n",
        "  result=np.zeros((len(i),dimension))\n",
        "  for j,i in enumerate(i):\n",
        "    for k in i:\n",
        "      result[j,k]=1\n",
        "  return result\n",
        "x_train=vectorize(train_data)\n",
        "x_test=vectorize(test_data)"
      ],
      "metadata": {
        "id": "wg_AgGVWLQ7_"
      },
      "execution_count": null,
      "outputs": []
    },
    {
      "cell_type": "code",
      "source": [
        "x_train[1]"
      ],
      "metadata": {
        "colab": {
          "base_uri": "https://localhost:8080/"
        },
        "id": "weoqNSFiNJPD",
        "outputId": "063c669a-10ce-4e4b-ec35-7f4d44f4d362"
      },
      "execution_count": null,
      "outputs": [
        {
          "output_type": "execute_result",
          "data": {
            "text/plain": [
              "array([0., 1., 1., ..., 0., 0., 0.])"
            ]
          },
          "metadata": {},
          "execution_count": 5
        }
      ]
    },
    {
      "cell_type": "code",
      "source": [
        "y_train=np.asarray(train_labels).astype(\"float32\")\n",
        "y_test=np.asarray(test_labels).astype(\"float32\")\n",
        "\n"
      ],
      "metadata": {
        "id": "WKaonCe0REPv"
      },
      "execution_count": null,
      "outputs": []
    },
    {
      "cell_type": "code",
      "source": [
        "from tensorflow import keras\n",
        "from tensorflow.keras import models\n",
        "from tensorflow.keras import layers\n",
        "from keras import regularizers\n",
        "\n",
        "model = keras.Sequential([\n",
        "    layers.Dense(16, activation='relu'),\n",
        "                 layers.Dense(16, activation='relu'),\n",
        "                 layers.Dense(1, activation='sigmoid')\n",
        "])\n"
      ],
      "metadata": {
        "id": "sqNP7V8RNkSs"
      },
      "execution_count": null,
      "outputs": []
    },
    {
      "cell_type": "code",
      "source": [
        "from keras import metrics\n",
        "model.compile(optimizer='rmsprop',\n",
        "              loss='binary_crossentropy',\n",
        "              metrics=['accuracy'])\n",
        "model"
      ],
      "metadata": {
        "colab": {
          "base_uri": "https://localhost:8080/"
        },
        "id": "duMmMdXFR6E2",
        "outputId": "82d9187c-19b7-4207-eea0-943b60f3a02c"
      },
      "execution_count": null,
      "outputs": [
        {
          "output_type": "execute_result",
          "data": {
            "text/plain": [
              "<keras.engine.sequential.Sequential at 0x7fc2fc50dfd0>"
            ]
          },
          "metadata": {},
          "execution_count": 8
        }
      ]
    },
    {
      "cell_type": "code",
      "source": [
        "output=model.fit(x_train,\n",
        "                 y_train,\n",
        "                 epochs=10,\n",
        "                 batch_size=128,\n",
        "                 validation_data=(x_test,y_test)\n",
        "                 )"
      ],
      "metadata": {
        "colab": {
          "base_uri": "https://localhost:8080/"
        },
        "id": "PWVzd9-WSpLY",
        "outputId": "cb7be3bf-dc12-4f2c-e24e-3a70647f0a9d"
      },
      "execution_count": null,
      "outputs": [
        {
          "output_type": "stream",
          "name": "stdout",
          "text": [
            "Epoch 1/10\n",
            "196/196 [==============================] - 8s 33ms/step - loss: 0.3635 - accuracy: 0.8535 - val_loss: 0.2818 - val_accuracy: 0.8870\n",
            "Epoch 2/10\n",
            "196/196 [==============================] - 8s 43ms/step - loss: 0.2139 - accuracy: 0.9187 - val_loss: 0.3155 - val_accuracy: 0.8743\n",
            "Epoch 3/10\n",
            "196/196 [==============================] - 5s 25ms/step - loss: 0.1709 - accuracy: 0.9358 - val_loss: 0.3532 - val_accuracy: 0.8677\n",
            "Epoch 4/10\n",
            "196/196 [==============================] - 6s 31ms/step - loss: 0.1431 - accuracy: 0.9488 - val_loss: 0.3571 - val_accuracy: 0.8723\n",
            "Epoch 5/10\n",
            "196/196 [==============================] - 5s 24ms/step - loss: 0.1196 - accuracy: 0.9574 - val_loss: 0.3829 - val_accuracy: 0.8697\n",
            "Epoch 6/10\n",
            "196/196 [==============================] - 6s 31ms/step - loss: 0.0967 - accuracy: 0.9670 - val_loss: 0.4520 - val_accuracy: 0.8621\n",
            "Epoch 7/10\n",
            "196/196 [==============================] - 6s 31ms/step - loss: 0.0761 - accuracy: 0.9743 - val_loss: 0.4732 - val_accuracy: 0.8652\n",
            "Epoch 8/10\n",
            "196/196 [==============================] - 6s 33ms/step - loss: 0.0561 - accuracy: 0.9824 - val_loss: 0.5544 - val_accuracy: 0.8562\n",
            "Epoch 9/10\n",
            "196/196 [==============================] - 5s 25ms/step - loss: 0.0393 - accuracy: 0.9878 - val_loss: 0.5995 - val_accuracy: 0.8592\n",
            "Epoch 10/10\n",
            "196/196 [==============================] - 5s 27ms/step - loss: 0.0263 - accuracy: 0.9923 - val_loss: 0.6795 - val_accuracy: 0.8598\n"
          ]
        }
      ]
    },
    {
      "cell_type": "code",
      "source": [
        "from keras import models\n",
        "from keras import layers\n",
        "from keras import regularizers\n",
        "import numpy as np\n",
        "# Load the IMDB dataset\n",
        "from keras.datasets import imdb\n",
        "\n",
        "(train_data, train_labels), (test_data, test_labels) = imdb.load_data(num_words=10000)\n",
        "\n",
        "# Vectorize the data\n",
        "def vectorize_sequences(sequences, dimension=10000):\n",
        "    results = np.zeros((len(sequences), dimension))\n",
        "    for i, sequence in enumerate(sequences):\n",
        "        results[i, sequence] = 1.\n",
        "    return results\n",
        "\n",
        "x_train = vectorize_sequences(train_data)\n",
        "x_test = vectorize_sequences(test_data)\n",
        "y_train = np.asarray(train_labels).astype('float32')\n",
        "y_test = np.asarray(test_labels).astype('float32')\n",
        "\n",
        "\n",
        "x_val = x_train[:10000]\n",
        "partial_x_train = x_train[10000:]\n",
        "y_val = y_train[:10000]\n",
        "partial_y_train = y_train[10000:]\n",
        "\n",
        "\n"
      ],
      "metadata": {
        "id": "lUXcs5Itsmf9"
      },
      "execution_count": 2,
      "outputs": []
    },
    {
      "cell_type": "code",
      "source": [
        "# Define the model\n",
        "from tensorflow.keras.models import Sequential\n",
        "from tensorflow.keras import regularizers\n",
        "from tensorflow.keras.layers import Dense, Dropout\n",
        "model = Sequential([\n",
        "    Dense(16, activation='relu', kernel_regularizer=regularizers.l2(0.01)),\n",
        "    Dropout(0.3),\n",
        "    Dense(16, activation='relu', kernel_regularizer=regularizers.l2(0.01)),\n",
        "    Dropout(0.3),\n",
        "    Dense(1, activation='sigmoid')\n",
        "])\n",
        "\n",
        "# Compile the model\n",
        "model.compile(optimizer='adam',\n",
        "              loss='binary_crossentropy',\n",
        "              metrics=['accuracy'])\n",
        "\n",
        "# Train the model\n",
        "history = model.fit(partial_x_train,\n",
        "                    partial_y_train,\n",
        "                    epochs=10,\n",
        "                    batch_size=256,\n",
        "                    validation_data=(x_val, y_val))\n",
        "\n",
        "# Evaluate the model\n",
        "results = model.evaluate(x_test, y_test)\n",
        "print(results)\n"
      ],
      "metadata": {
        "colab": {
          "base_uri": "https://localhost:8080/"
        },
        "id": "Tro298mZYddX",
        "outputId": "91c2d5a6-fe18-4c52-d39a-0ef95b023740"
      },
      "execution_count": 9,
      "outputs": [
        {
          "output_type": "stream",
          "name": "stdout",
          "text": [
            "Epoch 1/10\n",
            "59/59 [==============================] - 3s 34ms/step - loss: 0.8387 - accuracy: 0.6830 - val_loss: 0.6286 - val_accuracy: 0.8589\n",
            "Epoch 2/10\n",
            "59/59 [==============================] - 1s 22ms/step - loss: 0.6073 - accuracy: 0.8332 - val_loss: 0.5219 - val_accuracy: 0.8743\n",
            "Epoch 3/10\n",
            "59/59 [==============================] - 1s 22ms/step - loss: 0.5302 - accuracy: 0.8697 - val_loss: 0.4879 - val_accuracy: 0.8798\n",
            "Epoch 4/10\n",
            "59/59 [==============================] - 1s 22ms/step - loss: 0.4864 - accuracy: 0.8821 - val_loss: 0.4703 - val_accuracy: 0.8798\n",
            "Epoch 5/10\n",
            "59/59 [==============================] - 1s 22ms/step - loss: 0.4607 - accuracy: 0.8925 - val_loss: 0.4663 - val_accuracy: 0.8774\n",
            "Epoch 6/10\n",
            "59/59 [==============================] - 1s 22ms/step - loss: 0.4400 - accuracy: 0.8958 - val_loss: 0.4504 - val_accuracy: 0.8779\n",
            "Epoch 7/10\n",
            "59/59 [==============================] - 1s 22ms/step - loss: 0.4204 - accuracy: 0.9053 - val_loss: 0.4399 - val_accuracy: 0.8810\n",
            "Epoch 8/10\n",
            "59/59 [==============================] - 2s 28ms/step - loss: 0.4140 - accuracy: 0.9020 - val_loss: 0.4449 - val_accuracy: 0.8785\n",
            "Epoch 9/10\n",
            "59/59 [==============================] - 2s 35ms/step - loss: 0.4093 - accuracy: 0.9029 - val_loss: 0.4379 - val_accuracy: 0.8808\n",
            "Epoch 10/10\n",
            "59/59 [==============================] - 1s 22ms/step - loss: 0.3943 - accuracy: 0.9098 - val_loss: 0.4338 - val_accuracy: 0.8816\n",
            "782/782 [==============================] - 2s 3ms/step - loss: 0.4428 - accuracy: 0.8755\n",
            "[0.4427562952041626, 0.8755199909210205]\n"
          ]
        }
      ]
    }
  ]
}